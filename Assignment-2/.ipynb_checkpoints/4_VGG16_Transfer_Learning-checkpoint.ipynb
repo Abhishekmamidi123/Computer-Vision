{
 "cells": [
  {
   "cell_type": "code",
   "execution_count": 1,
   "metadata": {},
   "outputs": [
    {
     "name": "stderr",
     "output_type": "stream",
     "text": [
      "/usr/lib/python2.7/dist-packages/cryptography/x509/__init__.py:32: PendingDeprecationWarning: CRLExtensionOID has been renamed to CRLEntryExtensionOID\n",
      "  from cryptography.x509.oid import (\n",
      "/usr/local/lib/python2.7/dist-packages/scipy/optimize/_minimize.py:32: ImportWarning: Not importing directory '/usr/local/lib/python2.7/dist-packages/scipy/optimize/lbfgsb': missing __init__.py\n",
      "  from .lbfgsb import _minimize_lbfgsb\n",
      "/usr/local/lib/python2.7/dist-packages/scipy/spatial/__init__.py:95: ImportWarning: Not importing directory '/usr/local/lib/python2.7/dist-packages/scipy/spatial/qhull': missing __init__.py\n",
      "  from .qhull import *\n"
     ]
    }
   ],
   "source": [
    "import cv2\n",
    "import csv\n",
    "import numpy as np\n",
    "import tensorflow as tf\n",
    "import scipy\n",
    "from scipy import io as sio\n",
    "from scipy import ndimage, misc\n",
    "from matplotlib import pyplot as plt\n",
    "from matplotlib.pyplot import imshow\n",
    "from sklearn.metrics import classification_report\n",
    "from sklearn.metrics import accuracy_score\n",
    "import os\n",
    "os.environ['TF_CPP_MIN_LOG_LEVEL'] = '2'\n",
    "layers = ['conv1_1_b', 'conv1_1_W', 'conv1_2_b', 'conv1_2_W', 'conv2_1_b', 'conv2_1_W', 'conv2_2_b', \n",
    "          'conv2_2_W', 'conv3_1_b', 'conv3_1_W', 'conv3_2_b', 'conv3_2_W', 'conv3_3_b', 'conv3_3_W', \n",
    "          'conv4_1_b', 'conv4_1_W', 'conv4_2_b', 'conv4_2_W', 'conv4_3_b', 'conv4_3_W', 'conv5_1_b', \n",
    "          'conv5_1_W', 'conv5_2_b', 'conv5_2_W', 'conv5_3_b', 'conv5_3_W', 'fc6_b', 'fc6_W', 'fc7_b', \n",
    "          'fc7_W', 'fc8_b', 'fc8_W']"
   ]
  },
  {
   "cell_type": "code",
   "execution_count": 2,
   "metadata": {},
   "outputs": [],
   "source": [
    "def read_images(images_path, number_of_images):\n",
    "\timages = []\n",
    "\tfor i in range(1, number_of_images + 1):\n",
    "\t\tpath = images_path + '/' + str(i) + '.jpg'\n",
    "\t\timage = scipy.misc.imread(path)\n",
    "\t\timages.append(image)\n",
    "\timages = np.array(images)\n",
    "\tprint images.shape\n",
    "\treturn images\n",
    "\n",
    "def read_labels(labels_path):\n",
    "\twith open(labels_path,'rU') as csvfile:\n",
    "\t\tcsvfile = csv.reader(csvfile, delimiter=',')\n",
    "\t\tcsvdata = list(csvfile)\n",
    "\t\tlabels = map(int, csvdata[0])\n",
    "\t\tlabels_tensor = tf.reshape(tf.constant(labels), [1, 1, 1, len(labels)])\n",
    "\t\treturn labels_tensor\n",
    "\n",
    "def conv2d(path, previous_layer, layer_no):\n",
    "\tW = np.load(path + '/' + layers[layer_no + 1] + '.npy')\n",
    "\tb = np.load(path + '/' + layers[layer_no] + '.npy')\n",
    "\tlayer_name = layers[layer_no][:-2]\n",
    "\tconvolution = tf.nn.conv2d(previous_layer, filter = tf.constant(W), strides = [1,1,1,1], padding = 'SAME')\n",
    "\tbias = tf.constant(np.reshape(b, b.size))\n",
    "\treturn convolution + bias\n",
    "\n",
    "def fully_connected(path, previous_layer, layer_no, output_layers):\n",
    "\tW = np.load(path + '/' + layers[layer_no + 1] + '.npy')\n",
    "\tb = np.load(path + '/' + layers[layer_no] + '.npy')\n",
    "\tlayer_name = layers[layer_no][:-2]\n",
    "\tfc = tf.contrib.layers.fully_connected(previous_layer, output_layers, activation_fn=tf.nn.relu)\n",
    "\tbias = tf.constant(np.reshape(b, b.size))\n",
    "\treturn fc + bias\n",
    "\n",
    "def generate_model(path, image_height, image_width, channels):\n",
    "\tmodel = {}\n",
    "\tmodel['input_image'] = tf.Variable(np.zeros((1, image_height, image_width, channels)), dtype = 'float32')\n",
    "\tprint 'input_image  :' + str(model['input_image'].shape)\n",
    "\tmodel['conv1_1'] = tf.nn.relu(conv2d(path, model['input_image'], 0))\n",
    "\tmodel['conv1_2'] = tf.nn.relu(conv2d(path, model['conv1_1'], 2))\n",
    "\tmodel['maxpool1'] = tf.nn.max_pool(model['conv1_2'], ksize = [1,2,2,1], strides = [1,2,2,1], padding = 'SAME')\n",
    "\n",
    "\tmodel['conv2_1'] = tf.nn.relu(conv2d(path, model['maxpool1'], 4))\n",
    "\tmodel['conv2_2'] = tf.nn.relu(conv2d(path, model['conv2_1'], 6))\n",
    "\tmodel['maxpool2'] = tf.nn.max_pool(model['conv2_2'], ksize = [1,2,2,1], strides = [1,2,2,1], padding = 'SAME')\n",
    "\n",
    "\tmodel['conv3_1'] = tf.nn.relu(conv2d(path, model['maxpool2'], 8))\n",
    "\tmodel['conv3_2'] = tf.nn.relu(conv2d(path, model['conv3_1'], 10))\n",
    "\tmodel['conv3_3'] = tf.nn.relu(conv2d(path, model['conv3_2'], 12))\n",
    "\tmodel['maxpool3'] = tf.nn.max_pool(model['conv3_3'], ksize = [1,2,2,1], strides = [1,2,2,1], padding = 'SAME')\n",
    "\n",
    "\tmodel['conv4_1'] = tf.nn.relu(conv2d(path, model['maxpool3'], 14))\n",
    "\tmodel['conv4_2'] = tf.nn.relu(conv2d(path, model['conv4_1'], 16))\n",
    "\tmodel['conv4_3'] = tf.nn.relu(conv2d(path, model['conv4_2'], 18))\n",
    "\tmodel['maxpool4'] = tf.nn.max_pool(model['conv4_3'], ksize = [1,2,2,1], strides = [1,2,2,1], padding = 'SAME')\n",
    "\n",
    "\tmodel['conv5_1'] = tf.nn.relu(conv2d(path, model['maxpool4'], 20))\n",
    "\tmodel['conv5_2'] = tf.nn.relu(conv2d(path, model['conv5_1'], 22))\n",
    "\tmodel['conv5_3'] = tf.nn.relu(conv2d(path, model['conv5_2'], 24))\n",
    "\tmodel['maxpool5'] = tf.nn.max_pool(model['conv5_3'], ksize = [1,2,2,1], strides = [1,2,2,1], padding = 'SAME')\n",
    "\tshape = model['maxpool5'].get_shape().as_list()\n",
    "\tmodel['maxpool5'] = tf.reshape(model['maxpool5'], [1, 1, 1, reduce(lambda x, y: x*y, shape)])\n",
    "\tmodel['fc6'] = fully_connected(path, model['maxpool5'], 26, 4096)\n",
    "\tmodel['fc7'] = fully_connected(path, model['fc6'], 28, 4096)\n",
    "\tmodel['fc8'] = fully_connected(path, model['fc7'], 30, 1000)\n",
    "\tmodel['softmax'] = tf.nn.softmax(model['fc8'])\n",
    "\tcnt = 0\n",
    "\tfor layer_name in layers:\n",
    "\t\tif cnt%2==0:\n",
    "\t\t\tprint str(layer_name[:-2]) + '  :' + str(model[layer_name[:-2]].shape)\n",
    "\t\tcnt+=1\n",
    "\treturn model\n"
   ]
  },
  {
   "cell_type": "code",
   "execution_count": 3,
   "metadata": {},
   "outputs": [
    {
     "name": "stdout",
     "output_type": "stream",
     "text": [
      "input_image  :(1, 256, 256, 3)\n",
      "conv1_1  :(1, 256, 256, 64)\n",
      "conv1_2  :(1, 256, 256, 64)\n",
      "conv2_1  :(1, 128, 128, 128)\n",
      "conv2_2  :(1, 128, 128, 128)\n",
      "conv3_1  :(1, 64, 64, 256)\n",
      "conv3_2  :(1, 64, 64, 256)\n",
      "conv3_3  :(1, 64, 64, 256)\n",
      "conv4_1  :(1, 32, 32, 512)\n",
      "conv4_2  :(1, 32, 32, 512)\n",
      "conv4_3  :(1, 32, 32, 512)\n",
      "conv5_1  :(1, 16, 16, 512)\n",
      "conv5_2  :(1, 16, 16, 512)\n",
      "conv5_3  :(1, 16, 16, 512)\n",
      "fc6  :(1, 1, 1, 4096)\n",
      "fc7  :(1, 1, 1, 4096)\n",
      "fc8  :(1, 1, 1, 1000)\n"
     ]
    }
   ],
   "source": [
    "# Path - VGG16 weights\n",
    "\n",
    "image_height = 256\n",
    "image_width = 256\n",
    "channels = 3\n",
    "path = '../../pretrained_models/vgg16_pretrained_weights'\n",
    "model = generate_model(path, image_height, image_width, channels)"
   ]
  },
  {
   "cell_type": "code",
   "execution_count": 5,
   "metadata": {},
   "outputs": [
    {
     "name": "stdout",
     "output_type": "stream",
     "text": [
      "(1888, 256, 256, 3)\n",
      "Tensor(\"Reshape_3:0\", shape=(1, 1, 1, 800), dtype=int32)\n"
     ]
    }
   ],
   "source": [
    "import pickle\n",
    "# Start session\n",
    "sess = tf.InteractiveSession()\n",
    "sess.run(tf.global_variables_initializer())\n",
    "    \n",
    "train_images_path = '../../data/train'\n",
    "train_labels_path = '../../data/test_labels.csv'\n",
    "\n",
    "# Read images\n",
    "# train_images = read_images(train_images_path, 1888)\n",
    "train_images = pickle.load(open('train_images.obj', 'r'))\n",
    "print train_images.shape\n",
    "train_labels = read_labels(train_labels_path)\n",
    "print train_labels"
   ]
  },
  {
   "cell_type": "code",
   "execution_count": 14,
   "metadata": {},
   "outputs": [
    {
     "ename": "NameError",
     "evalue": "global name 'image_tensor' is not defined",
     "output_type": "error",
     "traceback": [
      "\u001b[0;31m---------------------------------------------------------------------------\u001b[0m",
      "\u001b[0;31mNameError\u001b[0m                                 Traceback (most recent call last)",
      "\u001b[0;32m<ipython-input-14-d4f270761911>\u001b[0m in \u001b[0;36m<module>\u001b[0;34m()\u001b[0m\n\u001b[1;32m     10\u001b[0m \u001b[0;34m\u001b[0m\u001b[0m\n\u001b[1;32m     11\u001b[0m \u001b[0;31m# To train only last layer, compute values at layer 'fc7' for all images.\u001b[0m\u001b[0;34m\u001b[0m\u001b[0;34m\u001b[0m\u001b[0m\n\u001b[0;32m---> 12\u001b[0;31m \u001b[0mtrain_images_at_fc7\u001b[0m \u001b[0;34m=\u001b[0m \u001b[0mcompute_fc7\u001b[0m\u001b[0;34m(\u001b[0m\u001b[0mmodel\u001b[0m\u001b[0;34m,\u001b[0m \u001b[0msess\u001b[0m\u001b[0;34m,\u001b[0m \u001b[0mtrain_images\u001b[0m\u001b[0;34m)\u001b[0m\u001b[0;34m\u001b[0m\u001b[0m\n\u001b[0m\u001b[1;32m     13\u001b[0m \u001b[0;31m# sess = train_model(model, train_images, train_labels)\u001b[0m\u001b[0;34m\u001b[0m\u001b[0;34m\u001b[0m\u001b[0m\n",
      "\u001b[0;32m<ipython-input-14-d4f270761911>\u001b[0m in \u001b[0;36mcompute_fc7\u001b[0;34m(model, sess, train_images)\u001b[0m\n\u001b[1;32m      4\u001b[0m         \u001b[0;31m# image_tensor = tf.constant(image)\u001b[0m\u001b[0;34m\u001b[0m\u001b[0;34m\u001b[0m\u001b[0m\n\u001b[1;32m      5\u001b[0m         \u001b[0mimage\u001b[0m \u001b[0;34m=\u001b[0m \u001b[0mnp\u001b[0m\u001b[0;34m.\u001b[0m\u001b[0marray\u001b[0m\u001b[0;34m(\u001b[0m\u001b[0mimage\u001b[0m\u001b[0;34m)\u001b[0m\u001b[0;34m\u001b[0m\u001b[0m\n\u001b[0;32m----> 6\u001b[0;31m         \u001b[0mmodel\u001b[0m\u001b[0;34m[\u001b[0m\u001b[0;34m'input_image'\u001b[0m\u001b[0;34m]\u001b[0m\u001b[0;34m.\u001b[0m\u001b[0massign\u001b[0m\u001b[0;34m(\u001b[0m\u001b[0mimage_tensor\u001b[0m\u001b[0;34m)\u001b[0m\u001b[0;34m\u001b[0m\u001b[0m\n\u001b[0m\u001b[1;32m      7\u001b[0m         \u001b[0msess\u001b[0m\u001b[0;34m.\u001b[0m\u001b[0mrun\u001b[0m\u001b[0;34m(\u001b[0m\u001b[0mmodel\u001b[0m\u001b[0;34m)\u001b[0m\u001b[0;34m\u001b[0m\u001b[0m\n\u001b[1;32m      8\u001b[0m         \u001b[0;32mprint\u001b[0m \u001b[0mmodel\u001b[0m\u001b[0;34m[\u001b[0m\u001b[0;34m'fc7'\u001b[0m\u001b[0;34m]\u001b[0m\u001b[0;34m\u001b[0m\u001b[0m\n",
      "\u001b[0;31mNameError\u001b[0m: global name 'image_tensor' is not defined"
     ]
    }
   ],
   "source": [
    "def compute_fc7(model, sess, train_images):\n",
    "    train_images_at_fc7 = []\n",
    "    for image in train_images[:1]:\n",
    "        # image_tensor = tf.constant(image)\n",
    "        image = np.array(image)\n",
    "        model['input_image'].assign(image)\n",
    "        sess.run(model)\n",
    "        print model['fc7']\n",
    "    return 0\n",
    "\n",
    "# To train only last layer, compute values at layer 'fc7' for all images.\n",
    "train_images_at_fc7 = compute_fc7(model, sess, train_images)\n",
    "# sess = train_model(model, train_images, train_labels)\n"
   ]
  },
  {
   "cell_type": "code",
   "execution_count": null,
   "metadata": {},
   "outputs": [],
   "source": [
    "def train_model(model, train_images, train_labels):\n",
    "\tsess = tf.InteractiveSession()\n",
    "\tsess.run(tf.global_variables_initializer())\n",
    "    \n",
    "\n",
    "test_images_path = '../../data/test'\n",
    "test_images = read_images(test_images_path, 800)\n",
    "# test_predictions = test_predict(sess, test_images)\n",
    "# test_labels_path = '../../data/test_labels.csv'\n",
    "# labels = read_labels(test_labels_path)\n",
    "# Accuracy = compute_accuracy(test_predictions, labels)"
   ]
  },
  {
   "cell_type": "code",
   "execution_count": null,
   "metadata": {},
   "outputs": [],
   "source": []
  }
 ],
 "metadata": {
  "kernelspec": {
   "display_name": "Python 2",
   "language": "python",
   "name": "python2"
  },
  "language_info": {
   "codemirror_mode": {
    "name": "ipython",
    "version": 2
   },
   "file_extension": ".py",
   "mimetype": "text/x-python",
   "name": "python",
   "nbconvert_exporter": "python",
   "pygments_lexer": "ipython2",
   "version": "2.7.12"
  }
 },
 "nbformat": 4,
 "nbformat_minor": 2
}
